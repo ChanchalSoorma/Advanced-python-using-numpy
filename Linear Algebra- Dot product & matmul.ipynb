{
 "cells": [
  {
   "cell_type": "code",
   "execution_count": 1,
   "id": "28c5eb17-c9af-4ec0-b3b9-d5680218d5e8",
   "metadata": {},
   "outputs": [],
   "source": [
    "import numpy as np"
   ]
  },
  {
   "cell_type": "code",
   "execution_count": null,
   "id": "59839b1a-3a41-486f-bfe8-fc4695d2ccc3",
   "metadata": {},
   "outputs": [],
   "source": [
    "## Dot Product (Example)"
   ]
  },
  {
   "cell_type": "code",
   "execution_count": 2,
   "id": "5362676c-d054-45f8-8098-51703c2b0461",
   "metadata": {},
   "outputs": [
    {
     "name": "stdout",
     "output_type": "stream",
     "text": [
      "Dot Product: 8\n"
     ]
    }
   ],
   "source": [
    "a = np.array([1, 2])\n",
    "b = np.array([2, 3])\n",
    "dot_product = np.dot(a, b)\n",
    "print(\"Dot Product:\", dot_product)"
   ]
  },
  {
   "cell_type": "code",
   "execution_count": 3,
   "id": "d6fc3206-b736-43f0-ba48-eb4a49b789dc",
   "metadata": {},
   "outputs": [
    {
     "name": "stdout",
     "output_type": "stream",
     "text": [
      "Dot Product: 20\n"
     ]
    }
   ],
   "source": [
    "c = np.array([1, 2, 3])\n",
    "d = np.array([2, 3, 4])\n",
    "dot_product = np.dot(c, d)\n",
    "print(\"Dot Product:\", dot_product)"
   ]
  },
  {
   "cell_type": "code",
   "execution_count": 4,
   "id": "cabce40d-5bf2-4642-97de-d791b03537d4",
   "metadata": {},
   "outputs": [
    {
     "name": "stdout",
     "output_type": "stream",
     "text": [
      "Dot Product: 11\n"
     ]
    }
   ],
   "source": [
    "x = np.array([1,2])\n",
    "y = np.array([5,3])\n",
    "dot_product = np.dot(x,y)\n",
    "print(\"Dot Product:\", dot_product)"
   ]
  },
  {
   "cell_type": "code",
   "execution_count": null,
   "id": "7582bae0-0a33-4f27-9036-ed1a38316c51",
   "metadata": {},
   "outputs": [],
   "source": [
    "## Matrix Multiplication (Example)"
   ]
  },
  {
   "cell_type": "code",
   "execution_count": 5,
   "id": "204a5438-8117-45a5-a9d7-d81e1198db70",
   "metadata": {},
   "outputs": [
    {
     "name": "stdout",
     "output_type": "stream",
     "text": [
      "Matrix Product:\n",
      " [[10 13]\n",
      " [22 29]]\n"
     ]
    }
   ],
   "source": [
    "A = np.array([[1, 2], [3, 4]])\n",
    "B = np.array([[2, 3], [4, 5]])\n",
    "product = np.matmul(A, B)\n",
    "print(\"Matrix Product:\\n\", product)"
   ]
  },
  {
   "cell_type": "code",
   "execution_count": 6,
   "id": "997b54d0-ebc9-4acb-b9c2-d85a4693987e",
   "metadata": {},
   "outputs": [
    {
     "name": "stdout",
     "output_type": "stream",
     "text": [
      "Broadcasted Matrix Product:\n",
      " [10 11]\n"
     ]
    }
   ],
   "source": [
    "C = np.array([1, 2])\n",
    "D = np.array([[4, 1], [3, 5]])\n",
    "product = np.matmul(C, D)\n",
    "print(\"Broadcasted Matrix Product:\\n\", product)"
   ]
  },
  {
   "cell_type": "code",
   "execution_count": 7,
   "id": "b532b206-dc40-4beb-8484-9d1155e1eaf3",
   "metadata": {},
   "outputs": [
    {
     "name": "stdout",
     "output_type": "stream",
     "text": [
      "Dot Product:\n",
      " [[10 13]\n",
      " [22 29]]\n",
      "Matrix Multiplication:\n",
      " [[10 13]\n",
      " [22 29]]\n"
     ]
    }
   ],
   "source": [
    "A = np.array([[1, 2], [3, 4]])\n",
    "B = np.array([[2, 3], [4, 5]])\n",
    "product_dot = np.dot(A, B)\n",
    "product_matmul = np.matmul(A, B)\n",
    "print(\"Dot Product:\\n\", product_dot)\n",
    "print(\"Matrix Multiplication:\\n\", product_matmul)"
   ]
  }
 ],
 "metadata": {
  "kernelspec": {
   "display_name": "Python [conda env:base] *",
   "language": "python",
   "name": "conda-base-py"
  },
  "language_info": {
   "codemirror_mode": {
    "name": "ipython",
    "version": 3
   },
   "file_extension": ".py",
   "mimetype": "text/x-python",
   "name": "python",
   "nbconvert_exporter": "python",
   "pygments_lexer": "ipython3",
   "version": "3.13.5"
  }
 },
 "nbformat": 4,
 "nbformat_minor": 5
}
