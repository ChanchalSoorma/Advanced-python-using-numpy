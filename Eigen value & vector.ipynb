{
 "cells": [
  {
   "cell_type": "code",
   "execution_count": 3,
   "id": "a8926764-1c21-484e-9be3-8e1074f5957f",
   "metadata": {},
   "outputs": [
    {
     "name": "stdout",
     "output_type": "stream",
     "text": [
      "Eigen values :  [6. 1.]\n",
      "Eigen vectors :  [[ 0.9701425  -0.70710678]\n",
      " [ 0.24253563  0.70710678]]\n"
     ]
    }
   ],
   "source": [
    "import numpy as np\n",
    "A = np.array([[5, 4], [1, 2]])\n",
    "eigenvalues, eigenvectors = np.linalg.eig(A)\n",
    "print('Eigen values : ', eigenvalues)\n",
    "print('Eigen vectors : ', eigenvectors)"
   ]
  }
 ],
 "metadata": {
  "kernelspec": {
   "display_name": "Python [conda env:base] *",
   "language": "python",
   "name": "conda-base-py"
  },
  "language_info": {
   "codemirror_mode": {
    "name": "ipython",
    "version": 3
   },
   "file_extension": ".py",
   "mimetype": "text/x-python",
   "name": "python",
   "nbconvert_exporter": "python",
   "pygments_lexer": "ipython3",
   "version": "3.13.5"
  }
 },
 "nbformat": 4,
 "nbformat_minor": 5
}
