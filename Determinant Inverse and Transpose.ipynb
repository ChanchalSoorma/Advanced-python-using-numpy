{
 "cells": [
  {
   "cell_type": "code",
   "execution_count": 1,
   "id": "b2d1790f-c48e-48fd-aeac-7bc4815d49f8",
   "metadata": {},
   "outputs": [],
   "source": [
    "import numpy as np"
   ]
  },
  {
   "cell_type": "code",
   "execution_count": null,
   "id": "5083a9e6-12f5-43de-9e56-8911f6efc105",
   "metadata": {},
   "outputs": [],
   "source": [
    "## Determinant----"
   ]
  },
  {
   "cell_type": "code",
   "execution_count": 2,
   "id": "6b985d91-2244-43f4-b4f0-4b2d5fc8b938",
   "metadata": {},
   "outputs": [
    {
     "name": "stdout",
     "output_type": "stream",
     "text": [
      "-2.0000000000000004\n"
     ]
    }
   ],
   "source": [
    "A = np.array([[1,2],[3,4]])\n",
    "determinant = np.linalg.det(A)\n",
    "print(determinant)"
   ]
  },
  {
   "cell_type": "code",
   "execution_count": 5,
   "id": "d89208e5-6e7b-44e1-aa44-210874899a9f",
   "metadata": {},
   "outputs": [
    {
     "name": "stdout",
     "output_type": "stream",
     "text": [
      "2.999999999999999\n"
     ]
    }
   ],
   "source": [
    "B = np.array([[1,2,3], [4,5,6], [6,8,9]])\n",
    "determinant = np.linalg.det(B)\n",
    "print(determinant)"
   ]
  },
  {
   "cell_type": "code",
   "execution_count": null,
   "id": "906fd5e8-ebde-4d79-b908-8aec2f344482",
   "metadata": {},
   "outputs": [],
   "source": [
    "## Transpose----"
   ]
  },
  {
   "cell_type": "code",
   "execution_count": 6,
   "id": "727060aa-6c06-44ba-bd61-22a9596bf6ca",
   "metadata": {},
   "outputs": [
    {
     "name": "stdout",
     "output_type": "stream",
     "text": [
      "[[1 4 7]\n",
      " [2 5 8]\n",
      " [3 6 9]]\n"
     ]
    }
   ],
   "source": [
    "B = np.array([[1,2,3], [4,5,6], [7,8,9]])\n",
    "Transpose = np.transpose(B)\n",
    "print(Transpose)"
   ]
  },
  {
   "cell_type": "code",
   "execution_count": 7,
   "id": "63dc95e1-830a-4f3e-a0c7-e7839d1e14ab",
   "metadata": {},
   "outputs": [
    {
     "name": "stdout",
     "output_type": "stream",
     "text": [
      "[[1 4]\n",
      " [2 5]\n",
      " [3 6]]\n"
     ]
    }
   ],
   "source": [
    "C = np.array([[1,2,3],[4,5,6]])\n",
    "Transpose = np.transpose(C)\n",
    "print(Transpose)"
   ]
  },
  {
   "cell_type": "code",
   "execution_count": null,
   "id": "faf1bff4-f8c3-4ef4-98ff-a63fe9a9195a",
   "metadata": {},
   "outputs": [],
   "source": [
    "## Identity Matrix = Main diagonal is 1 and other elements are 0"
   ]
  },
  {
   "cell_type": "code",
   "execution_count": null,
   "id": "0955f67b-b0b9-4f6b-b53f-08c39e12f463",
   "metadata": {},
   "outputs": [],
   "source": [
    "## Inverse----"
   ]
  },
  {
   "cell_type": "code",
   "execution_count": 8,
   "id": "c2fe2dc3-2789-48cc-9085-cf108888083b",
   "metadata": {},
   "outputs": [
    {
     "name": "stdout",
     "output_type": "stream",
     "text": [
      "[[-2.   1. ]\n",
      " [ 1.5 -0.5]]\n"
     ]
    }
   ],
   "source": [
    "A = np.array([[1,2],[3,4]])\n",
    "Inverse = np.linalg.inv(A)\n",
    "print(Inverse)"
   ]
  }
 ],
 "metadata": {
  "kernelspec": {
   "display_name": "Python [conda env:base] *",
   "language": "python",
   "name": "conda-base-py"
  },
  "language_info": {
   "codemirror_mode": {
    "name": "ipython",
    "version": 3
   },
   "file_extension": ".py",
   "mimetype": "text/x-python",
   "name": "python",
   "nbconvert_exporter": "python",
   "pygments_lexer": "ipython3",
   "version": "3.13.5"
  }
 },
 "nbformat": 4,
 "nbformat_minor": 5
}
